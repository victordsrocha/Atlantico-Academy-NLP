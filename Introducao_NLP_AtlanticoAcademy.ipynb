{
  "nbformat": 4,
  "nbformat_minor": 0,
  "metadata": {
    "colab": {
      "name": "Introducao_NLP-AtlanticoAcademy.ipynb",
      "provenance": [],
      "collapsed_sections": [],
      "include_colab_link": true
    },
    "kernelspec": {
      "name": "python3",
      "display_name": "Python 3"
    },
    "language_info": {
      "name": "python"
    }
  },
  "cells": [
    {
      "cell_type": "markdown",
      "metadata": {
        "id": "view-in-github",
        "colab_type": "text"
      },
      "source": [
        "<a href=\"https://colab.research.google.com/github/victordsrocha/Atlantico-Academy-NLP/blob/main/Introducao_NLP_AtlanticoAcademy.ipynb\" target=\"_parent\"><img src=\"https://colab.research.google.com/assets/colab-badge.svg\" alt=\"Open In Colab\"/></a>"
      ]
    },
    {
      "cell_type": "code",
      "metadata": {
        "colab": {
          "base_uri": "https://localhost:8080/",
          "height": 204
        },
        "id": "EUI5tbwhP6K5",
        "outputId": "58a5bc7c-baf4-4dbb-c7b0-31ebe108ed5c"
      },
      "source": [
        "import pandas as pd\n",
        "\n",
        "# fonte do dataset: https://www.kaggle.com/jannesklaas/disasters-on-social-media\n",
        "questions = pd.read_csv('socialmedia-disaster-tweets-DFE.csv',  encoding ='ISO-8859-1')\n",
        "questions = questions[['text', 'choose_one']]\n",
        "\n",
        "# dados sujos\n",
        "questions.head()"
      ],
      "execution_count": null,
      "outputs": [
        {
          "output_type": "execute_result",
          "data": {
            "text/html": [
              "<div>\n",
              "<style scoped>\n",
              "    .dataframe tbody tr th:only-of-type {\n",
              "        vertical-align: middle;\n",
              "    }\n",
              "\n",
              "    .dataframe tbody tr th {\n",
              "        vertical-align: top;\n",
              "    }\n",
              "\n",
              "    .dataframe thead th {\n",
              "        text-align: right;\n",
              "    }\n",
              "</style>\n",
              "<table border=\"1\" class=\"dataframe\">\n",
              "  <thead>\n",
              "    <tr style=\"text-align: right;\">\n",
              "      <th></th>\n",
              "      <th>text</th>\n",
              "      <th>choose_one</th>\n",
              "    </tr>\n",
              "  </thead>\n",
              "  <tbody>\n",
              "    <tr>\n",
              "      <th>0</th>\n",
              "      <td>Just happened a terrible car crash</td>\n",
              "      <td>Relevant</td>\n",
              "    </tr>\n",
              "    <tr>\n",
              "      <th>1</th>\n",
              "      <td>Our Deeds are the Reason of this #earthquake M...</td>\n",
              "      <td>Relevant</td>\n",
              "    </tr>\n",
              "    <tr>\n",
              "      <th>2</th>\n",
              "      <td>Heard about #earthquake is different cities, s...</td>\n",
              "      <td>Relevant</td>\n",
              "    </tr>\n",
              "    <tr>\n",
              "      <th>3</th>\n",
              "      <td>there is a forest fire at spot pond, geese are...</td>\n",
              "      <td>Relevant</td>\n",
              "    </tr>\n",
              "    <tr>\n",
              "      <th>4</th>\n",
              "      <td>Forest fire near La Ronge Sask. Canada</td>\n",
              "      <td>Relevant</td>\n",
              "    </tr>\n",
              "  </tbody>\n",
              "</table>\n",
              "</div>"
            ],
            "text/plain": [
              "                                                text choose_one\n",
              "0                 Just happened a terrible car crash   Relevant\n",
              "1  Our Deeds are the Reason of this #earthquake M...   Relevant\n",
              "2  Heard about #earthquake is different cities, s...   Relevant\n",
              "3  there is a forest fire at spot pond, geese are...   Relevant\n",
              "4             Forest fire near La Ronge Sask. Canada   Relevant"
            ]
          },
          "metadata": {},
          "execution_count": 1
        }
      ]
    },
    {
      "cell_type": "code",
      "metadata": {
        "colab": {
          "base_uri": "https://localhost:8080/",
          "height": 204
        },
        "id": "M8Doq1i4SmkN",
        "outputId": "25cf0b41-b427-4952-fc5b-3edf3507e809"
      },
      "source": [
        "# Expressões regulares para limpeza dos dados\n",
        "def standardize_text(df, text_field):\n",
        "  df[text_field] = df[text_field].str.replace(r\"http\\S+\", \"\")\n",
        "  df[text_field] = df[text_field].str.replace(r\"http\", \"\")\n",
        "  df[text_field] = df[text_field].str.replace(r\"@\\S+\", \"\")\n",
        "  df[text_field] = df[text_field].str.replace(r\"[^A-Za-z0-9(),!?@\\'\\`\\\"\\_\\n]\", \" \")\n",
        "  df[text_field] = df[text_field].str.replace(r\"@\", \"at\")\n",
        "  df[text_field] = df[text_field].str.lower()\n",
        "  return df\n",
        "\n",
        "# Limpeza e regravação do arquivo de saída limpo\n",
        "clean_questions = standardize_text(questions, 'text')\n",
        "clean_questions.to_csv('clean_data.csv')\n",
        "clean_questions.head()"
      ],
      "execution_count": null,
      "outputs": [
        {
          "output_type": "execute_result",
          "data": {
            "text/html": [
              "<div>\n",
              "<style scoped>\n",
              "    .dataframe tbody tr th:only-of-type {\n",
              "        vertical-align: middle;\n",
              "    }\n",
              "\n",
              "    .dataframe tbody tr th {\n",
              "        vertical-align: top;\n",
              "    }\n",
              "\n",
              "    .dataframe thead th {\n",
              "        text-align: right;\n",
              "    }\n",
              "</style>\n",
              "<table border=\"1\" class=\"dataframe\">\n",
              "  <thead>\n",
              "    <tr style=\"text-align: right;\">\n",
              "      <th></th>\n",
              "      <th>text</th>\n",
              "      <th>choose_one</th>\n",
              "    </tr>\n",
              "  </thead>\n",
              "  <tbody>\n",
              "    <tr>\n",
              "      <th>0</th>\n",
              "      <td>just happened a terrible car crash</td>\n",
              "      <td>Relevant</td>\n",
              "    </tr>\n",
              "    <tr>\n",
              "      <th>1</th>\n",
              "      <td>our deeds are the reason of this  earthquake m...</td>\n",
              "      <td>Relevant</td>\n",
              "    </tr>\n",
              "    <tr>\n",
              "      <th>2</th>\n",
              "      <td>heard about  earthquake is different cities, s...</td>\n",
              "      <td>Relevant</td>\n",
              "    </tr>\n",
              "    <tr>\n",
              "      <th>3</th>\n",
              "      <td>there is a forest fire at spot pond, geese are...</td>\n",
              "      <td>Relevant</td>\n",
              "    </tr>\n",
              "    <tr>\n",
              "      <th>4</th>\n",
              "      <td>forest fire near la ronge sask  canada</td>\n",
              "      <td>Relevant</td>\n",
              "    </tr>\n",
              "  </tbody>\n",
              "</table>\n",
              "</div>"
            ],
            "text/plain": [
              "                                                text choose_one\n",
              "0                 just happened a terrible car crash   Relevant\n",
              "1  our deeds are the reason of this  earthquake m...   Relevant\n",
              "2  heard about  earthquake is different cities, s...   Relevant\n",
              "3  there is a forest fire at spot pond, geese are...   Relevant\n",
              "4             forest fire near la ronge sask  canada   Relevant"
            ]
          },
          "metadata": {},
          "execution_count": 2
        }
      ]
    },
    {
      "cell_type": "code",
      "metadata": {
        "colab": {
          "base_uri": "https://localhost:8080/",
          "height": 173
        },
        "id": "Gv8s9yiITr6_",
        "outputId": "1c93ea44-e91b-4872-b519-d2bb7ee1b208"
      },
      "source": [
        "# Distribuição das classes\n",
        "clean_questions.groupby('choose_one').count()"
      ],
      "execution_count": null,
      "outputs": [
        {
          "output_type": "execute_result",
          "data": {
            "text/html": [
              "<div>\n",
              "<style scoped>\n",
              "    .dataframe tbody tr th:only-of-type {\n",
              "        vertical-align: middle;\n",
              "    }\n",
              "\n",
              "    .dataframe tbody tr th {\n",
              "        vertical-align: top;\n",
              "    }\n",
              "\n",
              "    .dataframe thead th {\n",
              "        text-align: right;\n",
              "    }\n",
              "</style>\n",
              "<table border=\"1\" class=\"dataframe\">\n",
              "  <thead>\n",
              "    <tr style=\"text-align: right;\">\n",
              "      <th></th>\n",
              "      <th>text</th>\n",
              "    </tr>\n",
              "    <tr>\n",
              "      <th>choose_one</th>\n",
              "      <th></th>\n",
              "    </tr>\n",
              "  </thead>\n",
              "  <tbody>\n",
              "    <tr>\n",
              "      <th>Can't Decide</th>\n",
              "      <td>16</td>\n",
              "    </tr>\n",
              "    <tr>\n",
              "      <th>Not Relevant</th>\n",
              "      <td>6187</td>\n",
              "    </tr>\n",
              "    <tr>\n",
              "      <th>Relevant</th>\n",
              "      <td>4673</td>\n",
              "    </tr>\n",
              "  </tbody>\n",
              "</table>\n",
              "</div>"
            ],
            "text/plain": [
              "              text\n",
              "choose_one        \n",
              "Can't Decide    16\n",
              "Not Relevant  6187\n",
              "Relevant      4673"
            ]
          },
          "metadata": {},
          "execution_count": 3
        }
      ]
    },
    {
      "cell_type": "code",
      "metadata": {
        "colab": {
          "base_uri": "https://localhost:8080/",
          "height": 204
        },
        "id": "cSYtxJNbUUZC",
        "outputId": "e6c62bca-aacf-44d2-ac0b-b3da0e555d73"
      },
      "source": [
        "from nltk.tokenize import RegexpTokenizer\n",
        "\n",
        "# Método de quebra dos dados\n",
        "tokenizer = RegexpTokenizer(r'\\w+')\n",
        "\n",
        "# Gerando listas de sentenças quebradas\n",
        "clean_questions['tokens'] = clean_questions['text'].apply(tokenizer.tokenize)\n",
        "\n",
        "#Primeiras linhas\n",
        "clean_questions.head()"
      ],
      "execution_count": null,
      "outputs": [
        {
          "output_type": "execute_result",
          "data": {
            "text/html": [
              "<div>\n",
              "<style scoped>\n",
              "    .dataframe tbody tr th:only-of-type {\n",
              "        vertical-align: middle;\n",
              "    }\n",
              "\n",
              "    .dataframe tbody tr th {\n",
              "        vertical-align: top;\n",
              "    }\n",
              "\n",
              "    .dataframe thead th {\n",
              "        text-align: right;\n",
              "    }\n",
              "</style>\n",
              "<table border=\"1\" class=\"dataframe\">\n",
              "  <thead>\n",
              "    <tr style=\"text-align: right;\">\n",
              "      <th></th>\n",
              "      <th>text</th>\n",
              "      <th>choose_one</th>\n",
              "      <th>tokens</th>\n",
              "    </tr>\n",
              "  </thead>\n",
              "  <tbody>\n",
              "    <tr>\n",
              "      <th>0</th>\n",
              "      <td>just happened a terrible car crash</td>\n",
              "      <td>Relevant</td>\n",
              "      <td>[just, happened, a, terrible, car, crash]</td>\n",
              "    </tr>\n",
              "    <tr>\n",
              "      <th>1</th>\n",
              "      <td>our deeds are the reason of this  earthquake m...</td>\n",
              "      <td>Relevant</td>\n",
              "      <td>[our, deeds, are, the, reason, of, this, earth...</td>\n",
              "    </tr>\n",
              "    <tr>\n",
              "      <th>2</th>\n",
              "      <td>heard about  earthquake is different cities, s...</td>\n",
              "      <td>Relevant</td>\n",
              "      <td>[heard, about, earthquake, is, different, citi...</td>\n",
              "    </tr>\n",
              "    <tr>\n",
              "      <th>3</th>\n",
              "      <td>there is a forest fire at spot pond, geese are...</td>\n",
              "      <td>Relevant</td>\n",
              "      <td>[there, is, a, forest, fire, at, spot, pond, g...</td>\n",
              "    </tr>\n",
              "    <tr>\n",
              "      <th>4</th>\n",
              "      <td>forest fire near la ronge sask  canada</td>\n",
              "      <td>Relevant</td>\n",
              "      <td>[forest, fire, near, la, ronge, sask, canada]</td>\n",
              "    </tr>\n",
              "  </tbody>\n",
              "</table>\n",
              "</div>"
            ],
            "text/plain": [
              "                                                text  ...                                             tokens\n",
              "0                 just happened a terrible car crash  ...          [just, happened, a, terrible, car, crash]\n",
              "1  our deeds are the reason of this  earthquake m...  ...  [our, deeds, are, the, reason, of, this, earth...\n",
              "2  heard about  earthquake is different cities, s...  ...  [heard, about, earthquake, is, different, citi...\n",
              "3  there is a forest fire at spot pond, geese are...  ...  [there, is, a, forest, fire, at, spot, pond, g...\n",
              "4             forest fire near la ronge sask  canada  ...      [forest, fire, near, la, ronge, sask, canada]\n",
              "\n",
              "[5 rows x 3 columns]"
            ]
          },
          "metadata": {},
          "execution_count": 4
        }
      ]
    },
    {
      "cell_type": "code",
      "metadata": {
        "colab": {
          "base_uri": "https://localhost:8080/"
        },
        "id": "Naf7Ys95U5EP",
        "outputId": "767864a3-882c-487c-9ac8-8be095aa8b62"
      },
      "source": [
        "#Inspecionando novamente os dados\n",
        "all_words = [word for tokens in clean_questions['tokens'] for word in tokens]\n",
        "sentence_lengths = [len(tokens) for tokens in clean_questions['tokens']]\n",
        "VOCAB = sorted(list(set(all_words)))\n",
        "\n",
        "\n",
        "print('Quantidade total de palavras: {}'.format(len(all_words)))\n",
        "print('Quantidade total de palavras únicas: {}'.format(len(VOCAB)))\n",
        "print('Maior sentença encontrada: {} tokens'.format(max(sentence_lengths)))"
      ],
      "execution_count": null,
      "outputs": [
        {
          "output_type": "stream",
          "name": "stdout",
          "text": [
            "Quantidade total de palavras: 154703\n",
            "Quantidade total de palavras únicas: 18097\n",
            "Maior sentença encontrada: 34 tokens\n"
          ]
        }
      ]
    },
    {
      "cell_type": "code",
      "metadata": {
        "colab": {
          "base_uri": "https://localhost:8080/",
          "height": 606
        },
        "id": "7pnV8BSvV8rx",
        "outputId": "e3fb0977-35ba-4677-ec52-6ef0bf8d4c68"
      },
      "source": [
        "#Distribuição das sentenças por quantidade de palavras\n",
        "import matplotlib.pyplot as plt\n",
        "import seaborn as sns\n",
        "\n",
        "fig = plt.figure(figsize=(10, 10))\n",
        "plt.xlabel('Tamanho da setença')\n",
        "plt.ylabel('Número de sentenças')\n",
        "sns.histplot(data=sentence_lengths, kde=True, discrete=True);"
      ],
      "execution_count": null,
      "outputs": [
        {
          "output_type": "display_data",
          "data": {
            "image/png": "[encoded data removed]",
            "text/plain": [
              "<Figure size 720x720 with 1 Axes>"
            ]
          },
          "metadata": {
            "needs_background": "light"
          }
        }
      ]
    }
  ]
}